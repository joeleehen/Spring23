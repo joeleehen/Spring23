{
 "cells": [
  {
   "cell_type": "code",
   "execution_count": 10,
   "id": "9a23204a-ab41-4c90-afdf-0565937d6da9",
   "metadata": {},
   "outputs": [],
   "source": [
    "%env INSTANCE=my"
   ]
  },
  {
   "cell_type": "code",
   "execution_count": 16,
   "id": "5adac5ee-dd8f-48e4-9b9f-e4817778a0c2",
   "metadata": {},
   "outputs": [],
   "source": [
    "!gsutil cp gs://cs327e-open-access-2/sakila.zip ."
   ]
  },
  {
   "cell_type": "code",
   "execution_count": 18,
   "id": "598077bc-ec0d-41cb-a933-3c919c68cab4",
   "metadata": {},
   "outputs": [
    {
     "name": "stdout",
     "output_type": "stream",
     "text": [
      "Archive:  sakila.zip\n",
      "   creating: sakila/\n",
      "  inflating: sakila/.DS_Store        \n",
      "  inflating: sakila/sakila_schema.png  \n",
      "  inflating: sakila/sakila-data.sql  \n",
      "  inflating: sakila/sakila-database.sql  \n"
     ]
    }
   ],
   "source": [
    "!unzip sakila.zip"
   ]
  },
  {
   "cell_type": "code",
   "execution_count": 3,
   "id": "30e71af9-9fe5-4706-886d-e30d96f8ae2e",
   "metadata": {},
   "outputs": [],
   "source": [
    "!mysql < /home/jupyter/sakila/sakila-database.sql"
   ]
  },
  {
   "cell_type": "code",
   "execution_count": 4,
   "id": "35391ab3-491c-498a-9f99-5d91610e9804",
   "metadata": {},
   "outputs": [],
   "source": [
    "!mysql < /home/jupyter/sakila/sakila-data.sql"
   ]
  },
  {
   "cell_type": "code",
   "execution_count": 24,
   "id": "9a523218-4d3c-49d9-8430-99756142c667",
   "metadata": {},
   "outputs": [
    {
     "name": "stdout",
     "output_type": "stream",
     "text": [
      "+----------+\n",
      "| COUNT(*) |\n",
      "+----------+\n",
      "|     1000 |\n",
      "+----------+\n"
     ]
    }
   ],
   "source": [
    "!mysql sakila -e \"SELECT COUNT(*) FROM film\""
   ]
  },
  {
   "cell_type": "code",
   "execution_count": 25,
   "id": "a11d86bb-bd93-416f-baa1-f03e42aa3d98",
   "metadata": {},
   "outputs": [
    {
     "name": "stdout",
     "output_type": "stream",
     "text": [
      "+----------+\n",
      "| COUNT(*) |\n",
      "+----------+\n",
      "|     4581 |\n",
      "+----------+\n"
     ]
    }
   ],
   "source": [
    "!mysql sakila -e \"SELECT COUNT(*) FROM inventory\""
   ]
  },
  {
   "cell_type": "code",
   "execution_count": 26,
   "id": "787dd63a-3339-40e0-b53f-3559daa42071",
   "metadata": {},
   "outputs": [
    {
     "name": "stdout",
     "output_type": "stream",
     "text": [
      "+----------+\n",
      "| COUNT(*) |\n",
      "+----------+\n",
      "|        2 |\n",
      "+----------+\n"
     ]
    }
   ],
   "source": [
    "!mysql sakila -e \"SELECT COUNT(*) FROM staff\""
   ]
  },
  {
   "cell_type": "code",
   "execution_count": 27,
   "id": "c113e6a4-d301-4718-8b1b-00bde0c4d21b",
   "metadata": {},
   "outputs": [
    {
     "name": "stdout",
     "output_type": "stream",
     "text": [
      "+----------+\n",
      "| COUNT(*) |\n",
      "+----------+\n",
      "|      603 |\n",
      "+----------+\n"
     ]
    }
   ],
   "source": [
    "!mysql sakila -e \"SELECT COUNT(*) FROM address\""
   ]
  },
  {
   "cell_type": "code",
   "execution_count": 28,
   "id": "c267fd00-1b08-4356-984f-93b1029a4bb1",
   "metadata": {},
   "outputs": [
    {
     "name": "stdout",
     "output_type": "stream",
     "text": [
      "+----------+\n",
      "| COUNT(*) |\n",
      "+----------+\n",
      "|       16 |\n",
      "+----------+\n"
     ]
    }
   ],
   "source": [
    "!mysql sakila -e \"SELECT COUNT(*) FROM category\""
   ]
  },
  {
   "cell_type": "code",
   "execution_count": null,
   "id": "670ae937-d2bb-45e9-a436-ac779a571cf2",
   "metadata": {},
   "outputs": [],
   "source": [
    "# Write five queries to sample a few rows using LIMIT clause"
   ]
  },
  {
   "cell_type": "code",
   "execution_count": 29,
   "id": "f5872a78-7192-4459-b495-ecd3ecf5953a",
   "metadata": {},
   "outputs": [
    {
     "name": "stdout",
     "output_type": "stream",
     "text": [
      "+---------+------------------+-----------------------------------------------------------------------------------------------------------------------+--------------+\n",
      "| film_id | title            | description                                                                                                           | release_year |\n",
      "+---------+------------------+-----------------------------------------------------------------------------------------------------------------------+--------------+\n",
      "|       1 | ACADEMY DINOSAUR | A Epic Drama of a Feminist And a Mad Scientist who must Battle a Teacher in The Canadian Rockies                      |         2006 |\n",
      "|       2 | ACE GOLDFINGER   | A Astounding Epistle of a Database Administrator And a Explorer who must Find a Car in Ancient China                  |         2006 |\n",
      "|       3 | ADAPTATION HOLES | A Astounding Reflection of a Lumberjack And a Car who must Sink a Lumberjack in A Baloon Factory                      |         2006 |\n",
      "|       4 | AFFAIR PREJUDICE | A Fanciful Documentary of a Frisbee And a Lumberjack who must Chase a Monkey in A Shark Tank                          |         2006 |\n",
      "|       5 | AFRICAN EGG      | A Fast-Paced Documentary of a Pastry Chef And a Dentist who must Pursue a Forensic Psychologist in The Gulf of Mexico |         2006 |\n",
      "|       6 | AGENT TRUMAN     | A Intrepid Panorama of a Robot And a Boy who must Escape a Sumo Wrestler in Ancient China                             |         2006 |\n",
      "|       7 | AIRPLANE SIERRA  | A Touching Saga of a Hunter And a Butler who must Discover a Butler in A Jet Boat                                     |         2006 |\n",
      "|       8 | AIRPORT POLLOCK  | A Epic Tale of a Moose And a Girl who must Confront a Monkey in Ancient India                                         |         2006 |\n",
      "|       9 | ALABAMA DEVIL    | A Thoughtful Panorama of a Database Administrator And a Mad Scientist who must Outgun a Mad Scientist in A Jet Boat   |         2006 |\n",
      "|      10 | ALADDIN CALENDAR | A Action-Packed Tale of a Man And a Lumberjack who must Reach a Feminist in Ancient China                             |         2006 |\n",
      "+---------+------------------+-----------------------------------------------------------------------------------------------------------------------+--------------+\n"
     ]
    }
   ],
   "source": [
    "!mysql sakila -e \"SELECT film_id, title, description, release_year FROM film LIMIT 10\""
   ]
  },
  {
   "cell_type": "code",
   "execution_count": 31,
   "id": "db114daa-c7ce-4c72-a738-b83eb2a6af73",
   "metadata": {},
   "outputs": [
    {
     "name": "stdout",
     "output_type": "stream",
     "text": [
      "+-------------+-----------+-------------------------------------+\n",
      "| customer_id | last_name | email                               |\n",
      "+-------------+-----------+-------------------------------------+\n",
      "|           1 | SMITH     | MARY.SMITH@sakilacustomer.org       |\n",
      "|           2 | JOHNSON   | PATRICIA.JOHNSON@sakilacustomer.org |\n",
      "|           3 | WILLIAMS  | LINDA.WILLIAMS@sakilacustomer.org   |\n",
      "|           4 | JONES     | BARBARA.JONES@sakilacustomer.org    |\n",
      "|           5 | BROWN     | ELIZABETH.BROWN@sakilacustomer.org  |\n",
      "|           6 | DAVIS     | JENNIFER.DAVIS@sakilacustomer.org   |\n",
      "|           7 | MILLER    | MARIA.MILLER@sakilacustomer.org     |\n",
      "|           8 | WILSON    | SUSAN.WILSON@sakilacustomer.org     |\n",
      "|           9 | MOORE     | MARGARET.MOORE@sakilacustomer.org   |\n",
      "|          10 | TAYLOR    | DOROTHY.TAYLOR@sakilacustomer.org   |\n",
      "|          11 | ANDERSON  | LISA.ANDERSON@sakilacustomer.org    |\n",
      "|          12 | THOMAS    | NANCY.THOMAS@sakilacustomer.org     |\n",
      "|          13 | JACKSON   | KAREN.JACKSON@sakilacustomer.org    |\n",
      "|          14 | WHITE     | BETTY.WHITE@sakilacustomer.org      |\n",
      "|          15 | HARRIS    | HELEN.HARRIS@sakilacustomer.org     |\n",
      "+-------------+-----------+-------------------------------------+\n"
     ]
    }
   ],
   "source": [
    "!mysql sakila -e \"SELECT customer_id, last_name, email FROM customer LIMIT 15\""
   ]
  },
  {
   "cell_type": "code",
   "execution_count": 33,
   "id": "3c0e6212-e052-4757-a31f-540345adbe56",
   "metadata": {},
   "outputs": [
    {
     "name": "stdout",
     "output_type": "stream",
     "text": [
      "+------------------------------------+----------------+---------+-------------+\n",
      "| address                            | district       | city_id | postal_code |\n",
      "+------------------------------------+----------------+---------+-------------+\n",
      "| 47 MySakila Drive                  | Alberta        |     300 |             |\n",
      "| 28 MySQL Boulevard                 | QLD            |     576 |             |\n",
      "| 23 Workhaven Lane                  | Alberta        |     300 |             |\n",
      "| 1411 Lillydale Drive               | QLD            |     576 |             |\n",
      "| 1913 Hanoi Way                     | Nagasaki       |     463 | 35200       |\n",
      "| 1121 Loja Avenue                   | California     |     449 | 17886       |\n",
      "| 692 Joliet Street                  | Attika         |      38 | 83579       |\n",
      "| 1566 Inegl Manor                   | Mandalay       |     349 | 53561       |\n",
      "| 53 Idfu Parkway                    | Nantou         |     361 | 42399       |\n",
      "| 1795 Santiago de Compostela Way    | Texas          |     295 | 18743       |\n",
      "| 900 Santiago de Compostela Parkway | Central Serbia |     280 | 93896       |\n",
      "| 478 Joliet Way                     | Hamilton       |     200 | 77948       |\n",
      "+------------------------------------+----------------+---------+-------------+\n"
     ]
    }
   ],
   "source": [
    "!mysql sakila -e \"SELECT address, district, city_id, postal_code FROM address LIMIT 12\""
   ]
  },
  {
   "cell_type": "code",
   "execution_count": 34,
   "id": "69a19848-49cf-46dd-8b57-6fe52aab4727",
   "metadata": {},
   "outputs": [
    {
     "name": "stdout",
     "output_type": "stream",
     "text": [
      "+---------+--------------------+------------+\n",
      "| city_id | city               | country_id |\n",
      "+---------+--------------------+------------+\n",
      "|       1 | A Corua (La Corua) |         87 |\n",
      "|       2 | Abha               |         82 |\n",
      "|       3 | Abu Dhabi          |        101 |\n",
      "|       4 | Acua               |         60 |\n",
      "|       5 | Adana              |         97 |\n",
      "|       6 | Addis Abeba        |         31 |\n",
      "|       7 | Aden               |        107 |\n",
      "|       8 | Adoni              |         44 |\n",
      "+---------+--------------------+------------+\n"
     ]
    }
   ],
   "source": [
    "!mysql sakila -e \"SELECT city_id, city, country_id FROM city LIMIT 8\""
   ]
  },
  {
   "cell_type": "code",
   "execution_count": 38,
   "id": "c47b3cf3-08af-4415-832b-240172bb7c6e",
   "metadata": {},
   "outputs": [
    {
     "name": "stdout",
     "output_type": "stream",
     "text": [
      "+------------+-----------+\n",
      "| first_name | last_name |\n",
      "+------------+-----------+\n",
      "| Mike       | Hillyer   |\n",
      "| Jon        | Stephens  |\n",
      "+------------+-----------+\n"
     ]
    }
   ],
   "source": [
    "!mysql sakila -e \"SELECT first_name, last_name FROM staff LIMIT 20\""
   ]
  },
  {
   "cell_type": "code",
   "execution_count": 29,
   "id": "ad65eb53-bb52-4382-9be3-e5d1fd068c82",
   "metadata": {},
   "outputs": [],
   "source": [
    "# select actor's first name, last name, and actor ID from actor table where\n",
    "# the last name starts with 'P', order by ascending actor_id"
   ]
  },
  {
   "cell_type": "code",
   "execution_count": 27,
   "id": "1ecb820e-a706-4a9c-9168-b3c371d10165",
   "metadata": {},
   "outputs": [
    {
     "name": "stdout",
     "output_type": "stream",
     "text": [
      "+----------+------------+-----------+\n",
      "| actor_id | first_name | last_name |\n",
      "+----------+------------+-----------+\n",
      "|       21 | KIRSTEN    | PALTROW   |\n",
      "|       30 | SANDRA     | PECK      |\n",
      "|       33 | MILLA      | PECK      |\n",
      "|       51 | GARY       | PHOENIX   |\n",
      "|       54 | PENELOPE   | PINKETT   |\n",
      "|       69 | KENNETH    | PALTROW   |\n",
      "|       73 | GARY       | PENN      |\n",
      "|       75 | BURT       | POSEY     |\n",
      "|       84 | JAMES      | PITT      |\n",
      "|       87 | SPENCER    | PECK      |\n",
      "|       88 | KENNETH    | PESCI     |\n",
      "|       93 | ELLEN      | PRESLEY   |\n",
      "|      133 | RICHARD    | PENN      |\n",
      "|      171 | OLYMPIA    | PFEIFFER  |\n",
      "+----------+------------+-----------+\n"
     ]
    }
   ],
   "source": [
    "!mysql sakila -e \"SELECT actor_id, first_name, last_name FROM actor WHERE last_name LIKE 'P%' ORDER BY actor_id;\""
   ]
  },
  {
   "cell_type": "code",
   "execution_count": null,
   "id": "d6c3a7c9-f976-474b-b20a-25ea9e28ee6f",
   "metadata": {},
   "outputs": [],
   "source": [
    "# insert Keanu Reeves' first and last name into to the actor table"
   ]
  },
  {
   "cell_type": "code",
   "execution_count": 40,
   "id": "8f05fb30-27d4-4570-90af-7f7b4576171f",
   "metadata": {},
   "outputs": [
    {
     "name": "stdout",
     "output_type": "stream",
     "text": [
      "+----------+------------+-----------+\n",
      "| actor_id | first_name | last_name |\n",
      "+----------+------------+-----------+\n",
      "|      135 | RITA       | REYNOLDS  |\n",
      "|      142 | JADA       | RYDER     |\n",
      "|      203 | Keanu      | Reeves    |\n",
      "|      204 | Keanu      | Reeves    |\n",
      "+----------+------------+-----------+\n"
     ]
    }
   ],
   "source": [
    "!mysql sakila -e \"INSERT INTO actor (first_name, last_name) VALUES ('Keanu', 'Reeves');\"\n",
    "!mysql sakila -e \"SELECT actor_id, first_name, last_name FROM actor WHERE last_name LIKE 'R%' ORDER BY actor_id;\""
   ]
  },
  {
   "cell_type": "code",
   "execution_count": null,
   "id": "2bcd7863-a510-4405-a5d3-b79c0d6c3cd7",
   "metadata": {},
   "outputs": [],
   "source": [
    "# changing all movies with a rating of NC-17 to rated R, updating timestamp"
   ]
  },
  {
   "cell_type": "code",
   "execution_count": 23,
   "id": "dd6907d6-b64f-4c8c-92a4-e8329c10731d",
   "metadata": {},
   "outputs": [],
   "source": [
    "!mysql sakila -e \"UPDATE film SET rating = 'R', last_update = CURRENT_TIMESTAMP() WHERE rating = 'NC-17';\""
   ]
  },
  {
   "cell_type": "code",
   "execution_count": null,
   "id": "3c0b86e4-3918-409f-a554-49103a9f844a",
   "metadata": {},
   "outputs": [],
   "source": [
    "# delete Keanu Reeves from the actor table"
   ]
  },
  {
   "cell_type": "code",
   "execution_count": 43,
   "id": "9fd78efe-eed8-4325-87ec-6dddb85d82d0",
   "metadata": {},
   "outputs": [
    {
     "name": "stdout",
     "output_type": "stream",
     "text": [
      "+----------+------------+-----------+\n",
      "| actor_id | first_name | last_name |\n",
      "+----------+------------+-----------+\n",
      "|      135 | RITA       | REYNOLDS  |\n",
      "|      142 | JADA       | RYDER     |\n",
      "+----------+------------+-----------+\n"
     ]
    }
   ],
   "source": [
    "!mysql sakila -e \"DELETE FROM actor WHERE last_name='Reeves';\"\n",
    "!mysql sakila -e \"SELECT actor_id, first_name, last_name FROM actor WHERE last_name LIKE 'R%' ORDER BY actor_id;\""
   ]
  }
 ],
 "metadata": {
  "environment": {
   "kernel": "python3",
   "name": "common-cpu.m102",
   "type": "gcloud",
   "uri": "gcr.io/deeplearning-platform-release/base-cpu:m102"
  },
  "kernelspec": {
   "display_name": "Python 3",
   "language": "python",
   "name": "python3"
  },
  "language_info": {
   "codemirror_mode": {
    "name": "ipython",
    "version": 3
   },
   "file_extension": ".py",
   "mimetype": "text/x-python",
   "name": "python",
   "nbconvert_exporter": "python",
   "pygments_lexer": "ipython3",
   "version": "3.7.12"
  }
 },
 "nbformat": 4,
 "nbformat_minor": 5
}
